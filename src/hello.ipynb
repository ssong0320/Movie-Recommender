{
 "cells": [
  {
   "cell_type": "code",
   "execution_count": 8,
   "metadata": {},
   "outputs": [
    {
     "name": "stdout",
     "output_type": "stream",
     "text": [
      "Dataset ml-100k could not be found. Do you want to download it? [Y/n] "
     ]
    }
   ],
   "source": [
    "import pandas as pd\n",
    "from surprise import SVD\n",
    "from surprise import Dataset, Reader\n",
    "from surprise.model_selection import train_test_split\n",
    "from surprise import KNNBasic\n",
    "from surprise import accuracy\n",
    "algo = SVD()\n",
    "# loads movie lens dataset\n",
    "data = Dataset.load_builtin('ml-100k', prompt=True)\n",
    "# Define a reader with the rating scale, as the dataset is explicit feedback\n",
    "reader = Reader(line_format='user item rating timestamp', sep='\\t', rating_scale=(1, 5))\n",
    "# Load the data from the dataset\n",
    "data = Dataset.load_from_file(data.ratings_file, reader=reader)\n",
    "\n",
    "trainset, testset = train_test_split(data, test_size=0.25)\n",
    "\n",
    "algo = KNNBasic()\n",
    "\n",
    "# Train the algorithm on the trainset\n",
    "algo.fit(trainset)\n",
    "\n",
    "# Predict ratings for the testset\n",
    "predictions = algo.test(testset)\n",
    "\n",
    "# Calculate and print the RMSE\n",
    "accuracy.rmse(predictions)\n",
    "\n",
    "# Predict rating for a specific user and item\n",
    "uid = str(196)  # raw user id\n",
    "iid = str(302)  # raw item id\n",
    "\n",
    "# Get a prediction for specific users and items\n",
    "pred = algo.predict(uid, iid, r_ui=4, verbose=True)\n"
   ]
  }
 ],
 "metadata": {
  "kernelspec": {
   "display_name": "myenv",
   "language": "python",
   "name": "python3"
  },
  "language_info": {
   "codemirror_mode": {
    "name": "ipython",
    "version": 3
   },
   "file_extension": ".py",
   "mimetype": "text/x-python",
   "name": "python",
   "nbconvert_exporter": "python",
   "pygments_lexer": "ipython3",
   "version": "3.10.8"
  }
 },
 "nbformat": 4,
 "nbformat_minor": 2
}
